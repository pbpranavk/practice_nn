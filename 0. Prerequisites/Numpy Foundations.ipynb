{
 "cells": [
  {
   "cell_type": "code",
   "execution_count": 2,
   "id": "cb2b8056",
   "metadata": {},
   "outputs": [],
   "source": [
    "import numpy as np"
   ]
  },
  {
   "cell_type": "markdown",
   "id": "1ae0599e",
   "metadata": {},
   "source": [
    "Forked from mrdbourke's repo https://github.com/mrdbourke/zero-to-mastery-ml/blob/master/section-2-data-science-and-ml-tools/introduction-to-numpy.ipynb"
   ]
  },
  {
   "cell_type": "markdown",
   "id": "6d640620",
   "metadata": {},
   "source": [
    "## 1. Creating an array\n",
    " - np.array\n",
    " - np.ones\n",
    " - np.zeros\n",
    " - np.unique\n",
    " - np.random.rand\n",
    " - np.random.randint"
   ]
  },
  {
   "cell_type": "code",
   "execution_count": 3,
   "id": "386db3ff",
   "metadata": {},
   "outputs": [
    {
     "data": {
      "text/plain": [
       "array([1, 2, 3])"
      ]
     },
     "execution_count": 3,
     "metadata": {},
     "output_type": "execute_result"
    }
   ],
   "source": [
    "simple_array = np.array([1, 2, 3])\n",
    "simple_array"
   ]
  },
  {
   "cell_type": "code",
   "execution_count": 5,
   "id": "20c2dca1",
   "metadata": {},
   "outputs": [],
   "source": [
    "ones = np.ones((10, 2))"
   ]
  },
  {
   "cell_type": "code",
   "execution_count": 6,
   "id": "284b7f7c",
   "metadata": {},
   "outputs": [
    {
     "name": "stdout",
     "output_type": "stream",
     "text": [
      "float64\n"
     ]
    }
   ],
   "source": [
    "print(ones.dtype)"
   ]
  },
  {
   "cell_type": "code",
   "execution_count": 7,
   "id": "620c3e48",
   "metadata": {},
   "outputs": [
    {
     "data": {
      "text/plain": [
       "array([[1, 1],\n",
       "       [1, 1],\n",
       "       [1, 1],\n",
       "       [1, 1],\n",
       "       [1, 1],\n",
       "       [1, 1],\n",
       "       [1, 1],\n",
       "       [1, 1],\n",
       "       [1, 1],\n",
       "       [1, 1]])"
      ]
     },
     "execution_count": 7,
     "metadata": {},
     "output_type": "execute_result"
    }
   ],
   "source": [
    "ones.astype(int)"
   ]
  },
  {
   "cell_type": "code",
   "execution_count": 8,
   "id": "afaa51bd",
   "metadata": {},
   "outputs": [
    {
     "data": {
      "text/plain": [
       "array([[[0., 0., 0.],\n",
       "        [0., 0., 0.],\n",
       "        [0., 0., 0.]],\n",
       "\n",
       "       [[0., 0., 0.],\n",
       "        [0., 0., 0.],\n",
       "        [0., 0., 0.]],\n",
       "\n",
       "       [[0., 0., 0.],\n",
       "        [0., 0., 0.],\n",
       "        [0., 0., 0.]],\n",
       "\n",
       "       [[0., 0., 0.],\n",
       "        [0., 0., 0.],\n",
       "        [0., 0., 0.]],\n",
       "\n",
       "       [[0., 0., 0.],\n",
       "        [0., 0., 0.],\n",
       "        [0., 0., 0.]]])"
      ]
     },
     "execution_count": 8,
     "metadata": {},
     "output_type": "execute_result"
    }
   ],
   "source": [
    "np.zeros((5, 3, 3))"
   ]
  },
  {
   "cell_type": "code",
   "execution_count": 9,
   "id": "e91c8ff0",
   "metadata": {},
   "outputs": [
    {
     "data": {
      "text/plain": [
       "array([0, 2, 4, 6, 8])"
      ]
     },
     "execution_count": 9,
     "metadata": {},
     "output_type": "execute_result"
    }
   ],
   "source": [
    "np.arange(0, 10, 2)"
   ]
  },
  {
   "cell_type": "code",
   "execution_count": 11,
   "id": "825002b8",
   "metadata": {},
   "outputs": [
    {
     "data": {
      "text/plain": [
       "array([[9, 5, 8],\n",
       "       [7, 7, 0],\n",
       "       [2, 9, 9],\n",
       "       [3, 4, 6],\n",
       "       [1, 4, 0]])"
      ]
     },
     "execution_count": 11,
     "metadata": {},
     "output_type": "execute_result"
    }
   ],
   "source": [
    "np.random.randint(10, size=(5, 3))"
   ]
  },
  {
   "cell_type": "code",
   "execution_count": 12,
   "id": "19690699",
   "metadata": {},
   "outputs": [
    {
     "data": {
      "text/plain": [
       "array([[0.70373752, 0.42984188, 0.04754254],\n",
       "       [0.98558226, 0.03655862, 0.10287571],\n",
       "       [0.07621545, 0.43508925, 0.1505678 ],\n",
       "       [0.30079698, 0.72213319, 0.17251895],\n",
       "       [0.78448656, 0.21212872, 0.45489496]])"
      ]
     },
     "execution_count": 12,
     "metadata": {},
     "output_type": "execute_result"
    }
   ],
   "source": [
    "np.random.random((5, 3))"
   ]
  },
  {
   "cell_type": "code",
   "execution_count": 13,
   "id": "6307e08f",
   "metadata": {},
   "outputs": [
    {
     "data": {
      "text/plain": [
       "array([[0.84822272, 0.37990198, 0.78514235],\n",
       "       [0.40625451, 0.37565369, 0.41559202],\n",
       "       [0.65652018, 0.05278957, 0.05826183],\n",
       "       [0.46905835, 0.36259945, 0.40729147],\n",
       "       [0.53789783, 0.89306633, 0.22844568]])"
      ]
     },
     "execution_count": 13,
     "metadata": {},
     "output_type": "execute_result"
    }
   ],
   "source": [
    "np.random.rand(5, 3)"
   ]
  },
  {
   "cell_type": "markdown",
   "id": "f6f3256e",
   "metadata": {},
   "source": [
    "## 2. Viewing arrays & matrices (Indexing)"
   ]
  },
  {
   "cell_type": "code",
   "execution_count": 14,
   "id": "77ab7c91",
   "metadata": {},
   "outputs": [
    {
     "name": "stdout",
     "output_type": "stream",
     "text": [
      "[1 2 3]\n",
      "[[1.  2.  3.3]\n",
      " [4.  5.  6.5]]\n",
      "[[[ 1  2  3]\n",
      "  [ 4  5  6]\n",
      "  [ 7  8  9]]\n",
      "\n",
      " [[10 11 12]\n",
      "  [13 14 15]\n",
      "  [16 17 18]]]\n"
     ]
    }
   ],
   "source": [
    "oned = np.array([1, 2, 3])\n",
    "twod = np.array([[1, 2.0, 3.3],\n",
    "               [4, 5, 6.5]])\n",
    "threed = np.array([[[1, 2, 3],\n",
    "                [4, 5, 6],\n",
    "                [7, 8, 9]],\n",
    "                [[10, 11, 12],\n",
    "                 [13, 14, 15],\n",
    "                 [16, 17, 18]]])\n",
    "\n",
    "print(oned)\n",
    "print(twod)\n",
    "print(threed)"
   ]
  },
  {
   "cell_type": "code",
   "execution_count": 15,
   "id": "9c75384e",
   "metadata": {},
   "outputs": [
    {
     "name": "stdout",
     "output_type": "stream",
     "text": [
      "1 [1.  2.  3.3] [[1 2 3]\n",
      " [4 5 6]\n",
      " [7 8 9]]\n"
     ]
    }
   ],
   "source": [
    "print(oned[0], twod[0], threed[0])"
   ]
  },
  {
   "cell_type": "code",
   "execution_count": 16,
   "id": "448774db",
   "metadata": {},
   "outputs": [
    {
     "data": {
      "text/plain": [
       "array([4. , 5. , 6.5])"
      ]
     },
     "execution_count": 16,
     "metadata": {},
     "output_type": "execute_result"
    }
   ],
   "source": [
    "twod[1]"
   ]
  },
  {
   "cell_type": "code",
   "execution_count": 17,
   "id": "6b192a9a",
   "metadata": {},
   "outputs": [
    {
     "data": {
      "text/plain": [
       "array([[[ 1,  2],\n",
       "        [ 4,  5]],\n",
       "\n",
       "       [[10, 11],\n",
       "        [13, 14]]])"
      ]
     },
     "execution_count": 17,
     "metadata": {},
     "output_type": "execute_result"
    }
   ],
   "source": [
    "threed[:2, :2, :2]"
   ]
  },
  {
   "cell_type": "code",
   "execution_count": 20,
   "id": "9bd864e1",
   "metadata": {},
   "outputs": [
    {
     "data": {
      "text/plain": [
       "(2, 3, 4, 5)"
      ]
     },
     "execution_count": 20,
     "metadata": {},
     "output_type": "execute_result"
    }
   ],
   "source": [
    "fourd = np.random.randint(10, size=(2, 3, 4, 5))\n",
    "fourd.shape"
   ]
  },
  {
   "cell_type": "code",
   "execution_count": 21,
   "id": "1ed32ee2",
   "metadata": {},
   "outputs": [
    {
     "data": {
      "text/plain": [
       "array([[[[2, 2, 8, 6],\n",
       "         [3, 4, 5, 3],\n",
       "         [5, 0, 3, 2],\n",
       "         [6, 1, 3, 3]],\n",
       "\n",
       "        [[1, 5, 9, 3],\n",
       "         [2, 0, 4, 1],\n",
       "         [3, 7, 1, 6],\n",
       "         [2, 3, 4, 9]],\n",
       "\n",
       "        [[7, 2, 1, 7],\n",
       "         [2, 3, 9, 4],\n",
       "         [5, 3, 5, 0],\n",
       "         [7, 1, 3, 0]]],\n",
       "\n",
       "\n",
       "       [[[0, 1, 9, 1],\n",
       "         [6, 5, 6, 2],\n",
       "         [0, 4, 7, 5],\n",
       "         [8, 0, 0, 1]],\n",
       "\n",
       "        [[7, 3, 8, 4],\n",
       "         [4, 7, 7, 2],\n",
       "         [7, 8, 9, 9],\n",
       "         [3, 4, 2, 9]],\n",
       "\n",
       "        [[0, 4, 1, 6],\n",
       "         [2, 0, 4, 0],\n",
       "         [7, 1, 3, 1],\n",
       "         [0, 4, 6, 4]]]])"
      ]
     },
     "execution_count": 21,
     "metadata": {},
     "output_type": "execute_result"
    }
   ],
   "source": [
    "fourd[:, :, :, :4]"
   ]
  },
  {
   "cell_type": "code",
   "execution_count": 61,
   "id": "c81ed056",
   "metadata": {},
   "outputs": [
    {
     "data": {
      "text/plain": [
       "array([1, 2, 3])"
      ]
     },
     "execution_count": 61,
     "metadata": {},
     "output_type": "execute_result"
    }
   ],
   "source": [
    "oned"
   ]
  },
  {
   "cell_type": "code",
   "execution_count": 62,
   "id": "5a5e782a",
   "metadata": {},
   "outputs": [
    {
     "data": {
      "text/plain": [
       "array([3])"
      ]
     },
     "execution_count": 62,
     "metadata": {},
     "output_type": "execute_result"
    }
   ],
   "source": [
    "oned[oned > 2]"
   ]
  },
  {
   "cell_type": "code",
   "execution_count": 63,
   "id": "fb7848fb",
   "metadata": {},
   "outputs": [
    {
     "data": {
      "text/plain": [
       "array([2, 3])"
      ]
     },
     "execution_count": 63,
     "metadata": {},
     "output_type": "execute_result"
    }
   ],
   "source": [
    "oned[oned >= 2]"
   ]
  },
  {
   "cell_type": "markdown",
   "id": "05557631",
   "metadata": {},
   "source": [
    "## 3. Manipulating & Comparing arrays\n",
    " - 3.1 Arithematic\n",
    "     - +, -, *, /, //, **, %\n",
    "     - np.exp, np.log\n",
    "     - np.dot\n",
    " - 3.2 Aggregation\n",
    "     - np.sum, np.sum(x>3),\n",
    "     - np.mean, np.std,\n",
    "     - np.var, np.min, np.max\n",
    "     - np.argmin, np.argmax\n",
    "     - np.reshape, mat.T\n",
    " - 3.3 Comparision\n",
    "     - `>` , >=, <, <=, !=, =="
   ]
  },
  {
   "cell_type": "code",
   "execution_count": 22,
   "id": "e49be19c",
   "metadata": {},
   "outputs": [
    {
     "data": {
      "text/plain": [
       "array([1, 2, 3])"
      ]
     },
     "execution_count": 22,
     "metadata": {},
     "output_type": "execute_result"
    }
   ],
   "source": [
    "oned"
   ]
  },
  {
   "cell_type": "code",
   "execution_count": 23,
   "id": "2bc17015",
   "metadata": {},
   "outputs": [],
   "source": [
    "ones = np.ones(3)"
   ]
  },
  {
   "cell_type": "code",
   "execution_count": 24,
   "id": "0d8d1eff",
   "metadata": {},
   "outputs": [
    {
     "data": {
      "text/plain": [
       "array([2., 3., 4.])"
      ]
     },
     "execution_count": 24,
     "metadata": {},
     "output_type": "execute_result"
    }
   ],
   "source": [
    "oned + ones"
   ]
  },
  {
   "cell_type": "code",
   "execution_count": 25,
   "id": "ab421da3",
   "metadata": {},
   "outputs": [
    {
     "data": {
      "text/plain": [
       "array([0., 1., 2.])"
      ]
     },
     "execution_count": 25,
     "metadata": {},
     "output_type": "execute_result"
    }
   ],
   "source": [
    "oned - ones"
   ]
  },
  {
   "cell_type": "code",
   "execution_count": 26,
   "id": "57a1188f",
   "metadata": {},
   "outputs": [
    {
     "data": {
      "text/plain": [
       "array([1., 2., 3.])"
      ]
     },
     "execution_count": 26,
     "metadata": {},
     "output_type": "execute_result"
    }
   ],
   "source": [
    "oned * ones"
   ]
  },
  {
   "cell_type": "code",
   "execution_count": 28,
   "id": "12208171",
   "metadata": {},
   "outputs": [
    {
     "data": {
      "text/plain": [
       "array([[ 1. ,  4. ,  9.9],\n",
       "       [ 4. , 10. , 19.5]])"
      ]
     },
     "execution_count": 28,
     "metadata": {},
     "output_type": "execute_result"
    }
   ],
   "source": [
    "oned * twod"
   ]
  },
  {
   "cell_type": "code",
   "execution_count": 29,
   "id": "a346a912",
   "metadata": {},
   "outputs": [
    {
     "ename": "ValueError",
     "evalue": "operands could not be broadcast together with shapes (2,3) (2,3,3) ",
     "output_type": "error",
     "traceback": [
      "\u001b[0;31m---------------------------------------------------------------------------\u001b[0m",
      "\u001b[0;31mValueError\u001b[0m                                Traceback (most recent call last)",
      "\u001b[0;32m/var/folders/rb/43pnpks93vdb2495w14hz73h0000gn/T/ipykernel_91983/3620223614.py\u001b[0m in \u001b[0;36m<module>\u001b[0;34m\u001b[0m\n\u001b[0;32m----> 1\u001b[0;31m \u001b[0mtwod\u001b[0m \u001b[0;34m*\u001b[0m \u001b[0mthreed\u001b[0m \u001b[0;31m# doesnt work\u001b[0m\u001b[0;34m\u001b[0m\u001b[0;34m\u001b[0m\u001b[0m\n\u001b[0m",
      "\u001b[0;31mValueError\u001b[0m: operands could not be broadcast together with shapes (2,3) (2,3,3) "
     ]
    }
   ],
   "source": [
    "twod * threed # doesnt work"
   ]
  },
  {
   "cell_type": "code",
   "execution_count": 31,
   "id": "835e535c",
   "metadata": {},
   "outputs": [
    {
     "data": {
      "text/plain": [
       "array([[0.82615269, 0.4814075 , 0.33376826, 0.73606493],\n",
       "       [0.91102043, 0.36932286, 0.6270089 , 0.89667066],\n",
       "       [1.54888702, 1.05618895, 0.88359061, 1.16715627],\n",
       "       [0.81580341, 0.46323103, 0.41429104, 0.71615424],\n",
       "       [1.19045951, 0.76285394, 0.94558103, 0.87357086]])"
      ]
     },
     "execution_count": 31,
     "metadata": {},
     "output_type": "execute_result"
    }
   ],
   "source": [
    "np.random.random((5, 3)) @ np.random.random((3, 4))"
   ]
  },
  {
   "cell_type": "code",
   "execution_count": 32,
   "id": "cb5f08de",
   "metadata": {},
   "outputs": [
    {
     "data": {
      "text/plain": [
       "array([[0.        , 0.69314718, 1.19392247],\n",
       "       [1.38629436, 1.60943791, 1.87180218]])"
      ]
     },
     "execution_count": 32,
     "metadata": {},
     "output_type": "execute_result"
    }
   ],
   "source": [
    "np.log(twod)"
   ]
  },
  {
   "cell_type": "code",
   "execution_count": 33,
   "id": "9e43d869",
   "metadata": {},
   "outputs": [
    {
     "data": {
      "text/plain": [
       "array([[  2.71828183,   7.3890561 ,  27.11263892],\n",
       "       [ 54.59815003, 148.4131591 , 665.14163304]])"
      ]
     },
     "execution_count": 33,
     "metadata": {},
     "output_type": "execute_result"
    }
   ],
   "source": [
    "np.exp(twod)"
   ]
  },
  {
   "cell_type": "code",
   "execution_count": 34,
   "id": "7817946f",
   "metadata": {},
   "outputs": [
    {
     "data": {
      "text/plain": [
       "array([[[1, 0, 1],\n",
       "        [0, 1, 0],\n",
       "        [1, 0, 1]],\n",
       "\n",
       "       [[0, 1, 0],\n",
       "        [1, 0, 1],\n",
       "        [0, 1, 0]]])"
      ]
     },
     "execution_count": 34,
     "metadata": {},
     "output_type": "execute_result"
    }
   ],
   "source": [
    "threed % 2"
   ]
  },
  {
   "cell_type": "code",
   "execution_count": 35,
   "id": "ce354292",
   "metadata": {},
   "outputs": [
    {
     "data": {
      "text/plain": [
       "171"
      ]
     },
     "execution_count": 35,
     "metadata": {},
     "output_type": "execute_result"
    }
   ],
   "source": [
    "np.sum(threed)"
   ]
  },
  {
   "cell_type": "code",
   "execution_count": 36,
   "id": "254c7f49",
   "metadata": {},
   "outputs": [
    {
     "data": {
      "text/plain": [
       "0"
      ]
     },
     "execution_count": 36,
     "metadata": {},
     "output_type": "execute_result"
    }
   ],
   "source": [
    "np.min(fourd)"
   ]
  },
  {
   "cell_type": "code",
   "execution_count": 37,
   "id": "b119ea15",
   "metadata": {},
   "outputs": [
    {
     "data": {
      "text/plain": [
       "9"
      ]
     },
     "execution_count": 37,
     "metadata": {},
     "output_type": "execute_result"
    }
   ],
   "source": [
    "np.max(fourd)"
   ]
  },
  {
   "cell_type": "code",
   "execution_count": 38,
   "id": "a446a485",
   "metadata": {},
   "outputs": [
    {
     "data": {
      "text/plain": [
       "1.8226964152656422"
      ]
     },
     "execution_count": 38,
     "metadata": {},
     "output_type": "execute_result"
    }
   ],
   "source": [
    "np.std(twod)"
   ]
  },
  {
   "cell_type": "code",
   "execution_count": 39,
   "id": "70a17b67",
   "metadata": {},
   "outputs": [
    {
     "data": {
      "text/plain": [
       "3.3222222222222224"
      ]
     },
     "execution_count": 39,
     "metadata": {},
     "output_type": "execute_result"
    }
   ],
   "source": [
    "np.var(twod)"
   ]
  },
  {
   "cell_type": "code",
   "execution_count": 40,
   "id": "cc4a8f2c",
   "metadata": {},
   "outputs": [
    {
     "data": {
      "text/plain": [
       "1.8226964152656422"
      ]
     },
     "execution_count": 40,
     "metadata": {},
     "output_type": "execute_result"
    }
   ],
   "source": [
    "np.sqrt(np.var(twod))"
   ]
  },
  {
   "cell_type": "code",
   "execution_count": 41,
   "id": "cf6dbbd4",
   "metadata": {},
   "outputs": [
    {
     "data": {
      "text/plain": [
       "array([[1. , 2. , 3.3],\n",
       "       [4. , 5. , 6.5]])"
      ]
     },
     "execution_count": 41,
     "metadata": {},
     "output_type": "execute_result"
    }
   ],
   "source": [
    "twod"
   ]
  },
  {
   "cell_type": "code",
   "execution_count": 42,
   "id": "64977400",
   "metadata": {},
   "outputs": [
    {
     "data": {
      "text/plain": [
       "(2, 3)"
      ]
     },
     "execution_count": 42,
     "metadata": {},
     "output_type": "execute_result"
    }
   ],
   "source": [
    "twod.shape"
   ]
  },
  {
   "cell_type": "code",
   "execution_count": 43,
   "id": "77371ec3",
   "metadata": {},
   "outputs": [
    {
     "data": {
      "text/plain": [
       "array([[[1. ],\n",
       "        [2. ],\n",
       "        [3.3]],\n",
       "\n",
       "       [[4. ],\n",
       "        [5. ],\n",
       "        [6.5]]])"
      ]
     },
     "execution_count": 43,
     "metadata": {},
     "output_type": "execute_result"
    }
   ],
   "source": [
    "twod.reshape(2, 3, 1)"
   ]
  },
  {
   "cell_type": "code",
   "execution_count": 44,
   "id": "8654a56e",
   "metadata": {},
   "outputs": [
    {
     "data": {
      "text/plain": [
       "array([[[ 2. ,  3. ,  4. ],\n",
       "        [ 6. ,  7. ,  8. ],\n",
       "        [10.3, 11.3, 12.3]],\n",
       "\n",
       "       [[14. , 15. , 16. ],\n",
       "        [18. , 19. , 20. ],\n",
       "        [22.5, 23.5, 24.5]]])"
      ]
     },
     "execution_count": 44,
     "metadata": {},
     "output_type": "execute_result"
    }
   ],
   "source": [
    "twod.reshape(2, 3, 1) + threed"
   ]
  },
  {
   "cell_type": "code",
   "execution_count": 45,
   "id": "7e2d6d37",
   "metadata": {},
   "outputs": [
    {
     "data": {
      "text/plain": [
       "array([[1. , 2. , 3.3],\n",
       "       [4. , 5. , 6.5]])"
      ]
     },
     "execution_count": 45,
     "metadata": {},
     "output_type": "execute_result"
    }
   ],
   "source": [
    "twod"
   ]
  },
  {
   "cell_type": "code",
   "execution_count": 46,
   "id": "afd3ccf8",
   "metadata": {},
   "outputs": [
    {
     "data": {
      "text/plain": [
       "array([[1. , 4. ],\n",
       "       [2. , 5. ],\n",
       "       [3.3, 6.5]])"
      ]
     },
     "execution_count": 46,
     "metadata": {},
     "output_type": "execute_result"
    }
   ],
   "source": [
    "twod.T"
   ]
  },
  {
   "cell_type": "code",
   "execution_count": 47,
   "id": "5e1dedf4",
   "metadata": {},
   "outputs": [
    {
     "data": {
      "text/plain": [
       "array([[[0.52958874, 0.41543137, 0.59691212],\n",
       "        [0.99741286, 0.11798962, 0.70701019],\n",
       "        [0.36327922, 0.08395481, 0.13604313]],\n",
       "\n",
       "       [[0.19801631, 0.27906454, 0.87152223],\n",
       "        [0.37918633, 0.93810441, 0.56797949],\n",
       "        [0.61012578, 0.41992831, 0.87704688]],\n",
       "\n",
       "       [[0.07621179, 0.85571743, 0.09375643],\n",
       "        [0.79829755, 0.68873796, 0.27184448],\n",
       "        [0.93954841, 0.02026145, 0.95514103]],\n",
       "\n",
       "       [[0.86505865, 0.57025643, 0.46309999],\n",
       "        [0.94278095, 0.56047033, 0.82182622],\n",
       "        [0.95953661, 0.16310744, 0.63169613]],\n",
       "\n",
       "       [[0.8397489 , 0.08794668, 0.8219431 ],\n",
       "        [0.30726411, 0.29469308, 0.72786074],\n",
       "        [0.13565636, 0.13920034, 0.39135728]]])"
      ]
     },
     "execution_count": 47,
     "metadata": {},
     "output_type": "execute_result"
    }
   ],
   "source": [
    "matrix = np.random.random(size=(5, 3, 3))\n",
    "matrix"
   ]
  },
  {
   "cell_type": "code",
   "execution_count": 48,
   "id": "d2cc61d8",
   "metadata": {},
   "outputs": [
    {
     "data": {
      "text/plain": [
       "array([[[0.52958874, 0.19801631, 0.07621179, 0.86505865, 0.8397489 ],\n",
       "        [0.99741286, 0.37918633, 0.79829755, 0.94278095, 0.30726411],\n",
       "        [0.36327922, 0.61012578, 0.93954841, 0.95953661, 0.13565636]],\n",
       "\n",
       "       [[0.41543137, 0.27906454, 0.85571743, 0.57025643, 0.08794668],\n",
       "        [0.11798962, 0.93810441, 0.68873796, 0.56047033, 0.29469308],\n",
       "        [0.08395481, 0.41992831, 0.02026145, 0.16310744, 0.13920034]],\n",
       "\n",
       "       [[0.59691212, 0.87152223, 0.09375643, 0.46309999, 0.8219431 ],\n",
       "        [0.70701019, 0.56797949, 0.27184448, 0.82182622, 0.72786074],\n",
       "        [0.13604313, 0.87704688, 0.95514103, 0.63169613, 0.39135728]]])"
      ]
     },
     "execution_count": 48,
     "metadata": {},
     "output_type": "execute_result"
    }
   ],
   "source": [
    "matrix.T"
   ]
  },
  {
   "cell_type": "code",
   "execution_count": 49,
   "id": "115e00cc",
   "metadata": {},
   "outputs": [
    {
     "data": {
      "text/plain": [
       "((5, 3, 3), (3, 3, 5))"
      ]
     },
     "execution_count": 49,
     "metadata": {},
     "output_type": "execute_result"
    }
   ],
   "source": [
    "matrix.shape, matrix.T.shape"
   ]
  },
  {
   "cell_type": "code",
   "execution_count": 52,
   "id": "0a569feb",
   "metadata": {},
   "outputs": [
    {
     "data": {
      "text/plain": [
       "array([[ 51, 151, 147,  73],\n",
       "       [ 65, 248, 212, 130],\n",
       "       [ 17,  67,  59,  27],\n",
       "       [ 55, 124, 136,  70],\n",
       "       [ 64, 237, 205, 125]])"
      ]
     },
     "execution_count": 52,
     "metadata": {},
     "output_type": "execute_result"
    }
   ],
   "source": [
    "np.dot(np.random.randint(15, size=(5,3)), np.random.randint(12, size=(3, 4)))"
   ]
  },
  {
   "cell_type": "code",
   "execution_count": 54,
   "id": "97350ca7",
   "metadata": {},
   "outputs": [
    {
     "ename": "ValueError",
     "evalue": "operands could not be broadcast together with shapes (5,3) (3,3) ",
     "output_type": "error",
     "traceback": [
      "\u001b[0;31m---------------------------------------------------------------------------\u001b[0m",
      "\u001b[0;31mValueError\u001b[0m                                Traceback (most recent call last)",
      "\u001b[0;32m/var/folders/rb/43pnpks93vdb2495w14hz73h0000gn/T/ipykernel_91983/2915017905.py\u001b[0m in \u001b[0;36m<module>\u001b[0;34m\u001b[0m\n\u001b[0;32m----> 1\u001b[0;31m \u001b[0mnp\u001b[0m\u001b[0;34m.\u001b[0m\u001b[0mrandom\u001b[0m\u001b[0;34m.\u001b[0m\u001b[0mrandint\u001b[0m\u001b[0;34m(\u001b[0m\u001b[0;36m15\u001b[0m\u001b[0;34m,\u001b[0m \u001b[0msize\u001b[0m\u001b[0;34m=\u001b[0m\u001b[0;34m(\u001b[0m\u001b[0;36m5\u001b[0m\u001b[0;34m,\u001b[0m\u001b[0;36m3\u001b[0m\u001b[0;34m)\u001b[0m\u001b[0;34m)\u001b[0m \u001b[0;34m*\u001b[0m \u001b[0mnp\u001b[0m\u001b[0;34m.\u001b[0m\u001b[0mrandom\u001b[0m\u001b[0;34m.\u001b[0m\u001b[0mrandint\u001b[0m\u001b[0;34m(\u001b[0m\u001b[0;36m9\u001b[0m\u001b[0;34m,\u001b[0m \u001b[0msize\u001b[0m\u001b[0;34m=\u001b[0m\u001b[0;34m(\u001b[0m\u001b[0;36m3\u001b[0m\u001b[0;34m,\u001b[0m \u001b[0;36m3\u001b[0m\u001b[0;34m)\u001b[0m\u001b[0;34m)\u001b[0m\u001b[0;34m\u001b[0m\u001b[0;34m\u001b[0m\u001b[0m\n\u001b[0m",
      "\u001b[0;31mValueError\u001b[0m: operands could not be broadcast together with shapes (5,3) (3,3) "
     ]
    }
   ],
   "source": [
    "np.random.randint(15, size=(5,3)) * np.random.randint(9, size=(3, 3))"
   ]
  },
  {
   "cell_type": "code",
   "execution_count": 55,
   "id": "0ebfc4d6",
   "metadata": {},
   "outputs": [
    {
     "data": {
      "text/plain": [
       "array([[ 6, 15, 15],\n",
       "       [ 0, 36,  0],\n",
       "       [32,  0, 14]])"
      ]
     },
     "execution_count": 55,
     "metadata": {},
     "output_type": "execute_result"
    }
   ],
   "source": [
    "np.random.randint(9, size=(3,3)) * np.random.randint(9, size=(3, 3))"
   ]
  },
  {
   "cell_type": "code",
   "execution_count": 56,
   "id": "7d7b994c",
   "metadata": {},
   "outputs": [
    {
     "data": {
      "text/plain": [
       "array([[False, False, False],\n",
       "       [False, False, False]])"
      ]
     },
     "execution_count": 56,
     "metadata": {},
     "output_type": "execute_result"
    }
   ],
   "source": [
    "oned > twod"
   ]
  },
  {
   "cell_type": "code",
   "execution_count": 57,
   "id": "b92a0a80",
   "metadata": {},
   "outputs": [
    {
     "data": {
      "text/plain": [
       "array([False, False, False])"
      ]
     },
     "execution_count": 57,
     "metadata": {},
     "output_type": "execute_result"
    }
   ],
   "source": [
    "oned > 5"
   ]
  },
  {
   "cell_type": "code",
   "execution_count": 58,
   "id": "5185e1c5",
   "metadata": {},
   "outputs": [
    {
     "data": {
      "text/plain": [
       "array([ True,  True,  True])"
      ]
     },
     "execution_count": 58,
     "metadata": {},
     "output_type": "execute_result"
    }
   ],
   "source": [
    "oned == oned"
   ]
  },
  {
   "cell_type": "markdown",
   "id": "8a0b0c8e",
   "metadata": {},
   "source": [
    "## 4. Sorting Arrays\n",
    " - np.sort, np.argsort\n",
    " - np.argmax, np.argmin"
   ]
  },
  {
   "cell_type": "code",
   "execution_count": 69,
   "id": "624ee55b",
   "metadata": {},
   "outputs": [],
   "source": [
    "random_array = np.random.random((2,3))"
   ]
  },
  {
   "cell_type": "code",
   "execution_count": 70,
   "id": "6adca38d",
   "metadata": {},
   "outputs": [
    {
     "data": {
      "text/plain": [
       "array([[0.90694113, 0.84394815, 0.20318086],\n",
       "       [0.12416733, 0.11164593, 0.22410209]])"
      ]
     },
     "execution_count": 70,
     "metadata": {},
     "output_type": "execute_result"
    }
   ],
   "source": [
    "random_array"
   ]
  },
  {
   "cell_type": "code",
   "execution_count": 71,
   "id": "e7017f70",
   "metadata": {},
   "outputs": [
    {
     "data": {
      "text/plain": [
       "array([[0.20318086, 0.84394815, 0.90694113],\n",
       "       [0.11164593, 0.12416733, 0.22410209]])"
      ]
     },
     "execution_count": 71,
     "metadata": {},
     "output_type": "execute_result"
    }
   ],
   "source": [
    "np.sort(random_array)"
   ]
  },
  {
   "cell_type": "code",
   "execution_count": 72,
   "id": "52a83b7e",
   "metadata": {},
   "outputs": [
    {
     "data": {
      "text/plain": [
       "array([[2, 1, 0],\n",
       "       [1, 0, 2]])"
      ]
     },
     "execution_count": 72,
     "metadata": {},
     "output_type": "execute_result"
    }
   ],
   "source": [
    "np.argsort(random_array)"
   ]
  },
  {
   "cell_type": "code",
   "execution_count": 73,
   "id": "a0a39378",
   "metadata": {},
   "outputs": [
    {
     "data": {
      "text/plain": [
       "4"
      ]
     },
     "execution_count": 73,
     "metadata": {},
     "output_type": "execute_result"
    }
   ],
   "source": [
    "np.argmin(random_array)"
   ]
  },
  {
   "cell_type": "code",
   "execution_count": 75,
   "id": "0bcaae1b",
   "metadata": {},
   "outputs": [
    {
     "data": {
      "text/plain": [
       "array([1, 1, 0])"
      ]
     },
     "execution_count": 75,
     "metadata": {},
     "output_type": "execute_result"
    }
   ],
   "source": [
    "np.argmin(random_array, axis=0)"
   ]
  },
  {
   "cell_type": "code",
   "execution_count": 80,
   "id": "a64f54ee",
   "metadata": {},
   "outputs": [
    {
     "data": {
      "text/plain": [
       "array([2, 1])"
      ]
     },
     "execution_count": 80,
     "metadata": {},
     "output_type": "execute_result"
    }
   ],
   "source": [
    "np.argmin(random_array, axis=1)"
   ]
  },
  {
   "cell_type": "code",
   "execution_count": 76,
   "id": "a72ead09",
   "metadata": {},
   "outputs": [
    {
     "data": {
      "text/plain": [
       "0"
      ]
     },
     "execution_count": 76,
     "metadata": {},
     "output_type": "execute_result"
    }
   ],
   "source": [
    "np.argmax(random_array)"
   ]
  },
  {
   "cell_type": "code",
   "execution_count": 78,
   "id": "bd38cfee",
   "metadata": {},
   "outputs": [
    {
     "data": {
      "text/plain": [
       "array([0, 2])"
      ]
     },
     "execution_count": 78,
     "metadata": {},
     "output_type": "execute_result"
    }
   ],
   "source": [
    "np.argmax(random_array, axis=1)"
   ]
  },
  {
   "cell_type": "code",
   "execution_count": 81,
   "id": "0f55853c",
   "metadata": {},
   "outputs": [
    {
     "data": {
      "text/plain": [
       "array([0, 0, 1])"
      ]
     },
     "execution_count": 81,
     "metadata": {},
     "output_type": "execute_result"
    }
   ],
   "source": [
    "np.argmax(random_array, axis=0)"
   ]
  },
  {
   "cell_type": "markdown",
   "id": "7643f4cd",
   "metadata": {},
   "source": [
    "axis = 0 -> Column\n",
    "\n",
    "\n",
    "axis = 1 -> Row "
   ]
  }
 ],
 "metadata": {
  "kernelspec": {
   "display_name": "Python 3 (ipykernel)",
   "language": "python",
   "name": "python3"
  },
  "language_info": {
   "codemirror_mode": {
    "name": "ipython",
    "version": 3
   },
   "file_extension": ".py",
   "mimetype": "text/x-python",
   "name": "python",
   "nbconvert_exporter": "python",
   "pygments_lexer": "ipython3",
   "version": "3.9.7"
  }
 },
 "nbformat": 4,
 "nbformat_minor": 5
}

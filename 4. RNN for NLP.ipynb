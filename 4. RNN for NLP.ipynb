{
 "cells": [
  {
   "cell_type": "markdown",
   "id": "b79b480f",
   "metadata": {},
   "source": [
    "IMDB Sentiment Analysis & Wikepidia Dataset"
   ]
  },
  {
   "cell_type": "markdown",
   "id": "43bb4972",
   "metadata": {},
   "source": [
    "IMDB : https://colab.research.google.com/github/markwest1972/LSTM-Example-Google-Colaboratory/blob/master/LSTM_IMDB_Sentiment_Example.ipynb"
   ]
  },
  {
   "cell_type": "markdown",
   "id": "9456f1cf",
   "metadata": {},
   "source": [
    "Wikipedia Text Generation : https://colab.research.google.com/github/trekhleb/machine-learning-experiments/blob/master/experiments/text_generation_wikipedia_rnn/text_generation_wikipedia_rnn.ipynb"
   ]
  },
  {
   "cell_type": "code",
   "execution_count": null,
   "id": "54e101eb",
   "metadata": {},
   "outputs": [],
   "source": []
  }
 ],
 "metadata": {
  "kernelspec": {
   "display_name": "Python 3 (ipykernel)",
   "language": "python",
   "name": "python3"
  },
  "language_info": {
   "codemirror_mode": {
    "name": "ipython",
    "version": 3
   },
   "file_extension": ".py",
   "mimetype": "text/x-python",
   "name": "python",
   "nbconvert_exporter": "python",
   "pygments_lexer": "ipython3",
   "version": "3.9.7"
  }
 },
 "nbformat": 4,
 "nbformat_minor": 5
}

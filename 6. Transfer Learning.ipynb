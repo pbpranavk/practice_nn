{
 "cells": [
  {
   "cell_type": "markdown",
   "id": "4f6e4ef1",
   "metadata": {},
   "source": [
    "CNN With PyTorch CalTech Dataset: https://towardsdatascience.com/transfer-learning-with-convolutional-neural-networks-in-pytorch-dd09190245ce\n",
    "\n"
   ]
  },
  {
   "cell_type": "markdown",
   "id": "792beff7",
   "metadata": {},
   "source": [
    "BERT SMS Spam detection with PyTorch SMS Spam detection: https://www.analyticsvidhya.com/blog/2020/07/transfer-learning-for-nlp-fine-tuning-bert-for-text-classification/"
   ]
  },
  {
   "cell_type": "code",
   "execution_count": null,
   "id": "15968a65",
   "metadata": {},
   "outputs": [],
   "source": []
  }
 ],
 "metadata": {
  "kernelspec": {
   "display_name": "Python 3 (ipykernel)",
   "language": "python",
   "name": "python3"
  },
  "language_info": {
   "codemirror_mode": {
    "name": "ipython",
    "version": 3
   },
   "file_extension": ".py",
   "mimetype": "text/x-python",
   "name": "python",
   "nbconvert_exporter": "python",
   "pygments_lexer": "ipython3",
   "version": "3.9.7"
  }
 },
 "nbformat": 4,
 "nbformat_minor": 5
}

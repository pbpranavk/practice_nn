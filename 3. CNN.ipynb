{
 "cells": [
  {
   "cell_type": "markdown",
   "id": "5185bc73",
   "metadata": {},
   "source": [
    "MNIST and CFAIR"
   ]
  },
  {
   "cell_type": "markdown",
   "id": "5524f396",
   "metadata": {},
   "source": [
    "MNIST : https://machinelearningmastery.com/how-to-develop-a-convolutional-neural-network-from-scratch-for-mnist-handwritten-digit-classification/"
   ]
  },
  {
   "cell_type": "markdown",
   "id": "8dea1ad0",
   "metadata": {},
   "source": [
    "CIFAR : https://machinelearningmastery.com/how-to-develop-a-cnn-from-scratch-for-cifar-10-photo-classification/"
   ]
  },
  {
   "cell_type": "code",
   "execution_count": null,
   "id": "3271ca6c",
   "metadata": {},
   "outputs": [],
   "source": []
  }
 ],
 "metadata": {
  "kernelspec": {
   "display_name": "Python 3 (ipykernel)",
   "language": "python",
   "name": "python3"
  },
  "language_info": {
   "codemirror_mode": {
    "name": "ipython",
    "version": 3
   },
   "file_extension": ".py",
   "mimetype": "text/x-python",
   "name": "python",
   "nbconvert_exporter": "python",
   "pygments_lexer": "ipython3",
   "version": "3.9.7"
  }
 },
 "nbformat": 4,
 "nbformat_minor": 5
}

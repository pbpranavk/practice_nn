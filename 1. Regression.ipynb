{
 "cells": [
  {
   "cell_type": "markdown",
   "id": "f6bcef92",
   "metadata": {},
   "source": [
    "Fish dataset: https://www.kaggle.com/husnakhan/fish-s-weight-eda-polynomial-linear-reg"
   ]
  },
  {
   "cell_type": "markdown",
   "id": "55b55302",
   "metadata": {},
   "source": [
    "Medical Insurance dataset: https://www.kaggle.com/husnakhan/fish-s-weight-eda-polynomial-linear-reg"
   ]
  },
  {
   "cell_type": "markdown",
   "id": "98c6cfde",
   "metadata": {},
   "source": [
    "Car details from car dekho: https://www.kaggle.com/nehalbirla/vehicle-dataset-from-cardekho"
   ]
  },
  {
   "cell_type": "markdown",
   "id": "22fb98b8",
   "metadata": {},
   "source": [
    "Life Expectancy: https://www.kaggle.com/kumarajarshi/life-expectancy-who"
   ]
  },
  {
   "cell_type": "code",
   "execution_count": null,
   "id": "905f3d0e",
   "metadata": {},
   "outputs": [],
   "source": []
  }
 ],
 "metadata": {
  "kernelspec": {
   "display_name": "Python 3 (ipykernel)",
   "language": "python",
   "name": "python3"
  },
  "language_info": {
   "codemirror_mode": {
    "name": "ipython",
    "version": 3
   },
   "file_extension": ".py",
   "mimetype": "text/x-python",
   "name": "python",
   "nbconvert_exporter": "python",
   "pygments_lexer": "ipython3",
   "version": "3.9.7"
  }
 },
 "nbformat": 4,
 "nbformat_minor": 5
}
